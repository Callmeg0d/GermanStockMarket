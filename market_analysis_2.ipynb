{
 "cells": [
  {
   "cell_type": "markdown",
   "id": "YvhNgxdBKLV9",
   "metadata": {
    "id": "YvhNgxdBKLV9"
   },
   "source": [
    "В первой части задания по анализу фондового рынка Германии за 2018 был рассмотрен индекс DAX - главный индекс немецкого фондового рынка, который включает в себя 30 крупнейших и наиболее ликвидных компаний, зарегистрированных на Франкфуртской фондовой бирже. Для данной части работы 50 акций были выбраны из индекса MDAX (Mid-Cap DAX) - индекса, который включает в себя 50 компаний среднего размера, следующих за DAX по рыночной капитализации. Он отражает динамику средних компаний в Германии. С учётом того, что 3 акции из выбранных начали торги после 2018 года, они были заменены 3 акциями из индекса SDAX (Small-Cap DAX) - индекса, который включает в себя 70 малых компаний, которые не входят в MDAX. (Эти акции последние в списке dax_tickers)"
   ]
  },
  {
   "cell_type": "code",
   "execution_count": null,
   "id": "U9DcQTIBjpWh",
   "metadata": {
    "id": "U9DcQTIBjpWh"
   },
   "outputs": [],
   "source": [
    "import yfinance as yf\n",
    "import pandas as pd\n",
    "import numpy as np\n",
    "import cvxpy as cp\n",
    "import matplotlib.pyplot as plt\n",
    "from scipy import interpolate"
   ]
  },
  {
   "cell_type": "markdown",
   "id": "MZCfPFoQlb_n",
   "metadata": {
    "id": "MZCfPFoQlb_n"
   },
   "source": [
    "Подготовка данных"
   ]
  },
  {
   "cell_type": "code",
   "execution_count": null,
   "id": "4bdcb13f-2f29-4123-a9d3-95b75037178f",
   "metadata": {
    "colab": {
     "base_uri": "https://localhost:8080/"
    },
    "collapsed": true,
    "id": "4bdcb13f-2f29-4123-a9d3-95b75037178f",
    "jupyter": {
     "outputs_hidden": true
    },
    "outputId": "d4b34a42-9b48-4755-8307-67fa3b1f5dac"
   },
   "outputs": [
    {
     "name": "stderr",
     "output_type": "stream",
     "text": [
      "[*********************100%***********************]  1 of 1 completed\n",
      "[*********************100%***********************]  1 of 1 completed\n",
      "[*********************100%***********************]  1 of 1 completed\n",
      "[*********************100%***********************]  1 of 1 completed\n",
      "[*********************100%***********************]  1 of 1 completed\n",
      "[*********************100%***********************]  1 of 1 completed\n",
      "[*********************100%***********************]  1 of 1 completed\n",
      "[*********************100%***********************]  1 of 1 completed\n",
      "[*********************100%***********************]  1 of 1 completed\n",
      "[*********************100%***********************]  1 of 1 completed\n",
      "[*********************100%***********************]  1 of 1 completed\n",
      "[*********************100%***********************]  1 of 1 completed\n",
      "[*********************100%***********************]  1 of 1 completed\n",
      "[*********************100%***********************]  1 of 1 completed\n",
      "[*********************100%***********************]  1 of 1 completed\n",
      "[*********************100%***********************]  1 of 1 completed\n",
      "[*********************100%***********************]  1 of 1 completed\n",
      "[*********************100%***********************]  1 of 1 completed\n",
      "[*********************100%***********************]  1 of 1 completed\n",
      "[*********************100%***********************]  1 of 1 completed\n",
      "[*********************100%***********************]  1 of 1 completed\n",
      "[*********************100%***********************]  1 of 1 completed\n",
      "[*********************100%***********************]  1 of 1 completed\n",
      "[*********************100%***********************]  1 of 1 completed\n",
      "[*********************100%***********************]  1 of 1 completed\n",
      "[*********************100%***********************]  1 of 1 completed\n",
      "[*********************100%***********************]  1 of 1 completed\n",
      "[*********************100%***********************]  1 of 1 completed\n",
      "[*********************100%***********************]  1 of 1 completed\n",
      "[*********************100%***********************]  1 of 1 completed\n",
      "[*********************100%***********************]  1 of 1 completed\n",
      "[*********************100%***********************]  1 of 1 completed\n",
      "[*********************100%***********************]  1 of 1 completed\n",
      "[*********************100%***********************]  1 of 1 completed\n",
      "[*********************100%***********************]  1 of 1 completed\n",
      "[*********************100%***********************]  1 of 1 completed\n",
      "[*********************100%***********************]  1 of 1 completed\n",
      "[*********************100%***********************]  1 of 1 completed\n",
      "[*********************100%***********************]  1 of 1 completed\n",
      "[*********************100%***********************]  1 of 1 completed\n",
      "[*********************100%***********************]  1 of 1 completed\n",
      "[*********************100%***********************]  1 of 1 completed\n",
      "[*********************100%***********************]  1 of 1 completed\n",
      "[*********************100%***********************]  1 of 1 completed\n",
      "[*********************100%***********************]  1 of 1 completed\n",
      "[*********************100%***********************]  1 of 1 completed\n",
      "[*********************100%***********************]  1 of 1 completed\n",
      "[*********************100%***********************]  1 of 1 completed\n",
      "[*********************100%***********************]  1 of 1 completed\n",
      "[*********************100%***********************]  1 of 1 completed\n"
     ]
    }
   ],
   "source": [
    "pd.set_option('display.max_rows', None)\n",
    "pd.set_option('display.max_columns', None)\n",
    "\n",
    "dax_tickers = [\n",
    "    \"AIXA.DE\", \"AT1.DE\", \"NDA.DE\",  \"BC8.DE\", \"BFSA.DE\", \"GBF.DE\",  \"AFX.DE\",  \"EVD.DE\", \"DHER.DE\", \"LHA.DE\",\n",
    "    \"ECV.DE\",  \"EVT.DE\", \"EVK.DE\",  \"FRA.DE\", \"FNTN.DE\", \"FRE.DE\",  \"FPE3.DE\", \"G1A.DE\", \"GXI.DE\",  \"HLE.DE\",\n",
    "    \"HFG.DE\",  \"HOT.DE\", \"BOSS.DE\", \"JEN.DE\", \"JUN3.DE\", \"SDF.DE\",  \"LXS.DE\",  \"KRN.DE\", \"KGX.DE\",  \"KBX.DE\",\n",
    "    \"LEG.DE\",  \"NEM.DE\", \"NDX1.DE\", \"PUM.DE\", \"RAA.DE\",  \"RDC.DE\",  \"RRTL.DE\", \"G24.DE\", \"WAF.DE\",  \"STM.DE\",\n",
    "    \"SAX.DE\",  \"TEG.DE\", \"TLX.DE\",  \"TKA.DE\", \"TUI1.DE\", \"UTDI.DE\", \"WCH.DE\",  \"1U1.DE\", \"ADN1.DE\", \"AAD.DE\"\n",
    "]\n",
    "dax_tickers.sort()\n",
    "\n",
    "data_frames = []\n",
    "\n",
    "for ticker in dax_tickers:\n",
    "    data = yf.download(ticker, start=\"2018-01-01\", end=\"2018-12-31\")\n",
    "    data['Ticker'] = ticker\n",
    "    data_frames.append(data[['Open', 'High', 'Low', 'Close', 'Ticker']])\n",
    "\n",
    "all_data = pd.concat(data_frames)\n",
    "all_data.reset_index(inplace=True)\n",
    "all_data = all_data[['Date', 'Open', 'High', 'Low', 'Close', 'Ticker']]\n",
    "\n",
    "#print(all_data)"
   ]
  },
  {
   "cell_type": "code",
   "execution_count": null,
   "id": "u73PBMtAW1DT",
   "metadata": {
    "collapsed": true,
    "id": "u73PBMtAW1DT",
    "jupyter": {
     "outputs_hidden": true
    }
   },
   "outputs": [],
   "source": [
    "all_data['Return'] = all_data.groupby('Ticker')['Close'].pct_change()\n",
    "all_data['Log_Return'] = np.where(\n",
    "    all_data['Ticker'] == all_data['Ticker'].shift(1),\n",
    "    np.log(all_data['Close'] / all_data['Close'].shift(1)),\n",
    "    np.nan\n",
    ")\n",
    "returns = all_data.pivot(index='Date', columns='Ticker', values='Log_Return')"
   ]
  },
  {
   "cell_type": "markdown",
   "id": "cRZrVS-5lgsz",
   "metadata": {
    "id": "cRZrVS-5lgsz"
   },
   "source": [
    "Прежде чем приступить к выполнению заданий и всем расчетам, посмотрим на корреляционную матрицу."
   ]
  },
  {
   "cell_type": "code",
   "execution_count": null,
   "id": "bT3BVdKPhym_",
   "metadata": {
    "colab": {
     "base_uri": "https://localhost:8080/"
    },
    "id": "bT3BVdKPhym_",
    "outputId": "a7a8e384-e171-4950-dd0d-e5fa97a2d860"
   },
   "outputs": [
    {
     "name": "stdout",
     "output_type": "stream",
     "text": [
      "correlation 0.51 between 1U1.DE and FNTN.DE\n",
      "correlation 0.68 between 1U1.DE and UTDI.DE\n",
      "correlation 0.51 between ADN1.DE and KBX.DE\n",
      "correlation 0.59 between AIXA.DE and WAF.DE\n",
      "correlation 0.57 between AT1.DE and LEG.DE\n",
      "correlation 0.53 between AT1.DE and TEG.DE\n",
      "correlation 0.51 between BC8.DE and NEM.DE\n",
      "correlation 0.51 between ECV.DE and SDF.DE\n",
      "correlation 0.53 between EVK.DE and HLE.DE\n",
      "correlation 0.52 between EVK.DE and JEN.DE\n",
      "correlation 0.50 between EVK.DE and JUN3.DE\n",
      "correlation 0.62 between EVK.DE and LXS.DE\n",
      "correlation 0.52 between EVK.DE and SDF.DE\n",
      "correlation 0.51 between EVK.DE and WCH.DE\n",
      "correlation 0.50 between EVT.DE and KBX.DE\n",
      "correlation 0.52 between HLE.DE and LXS.DE\n",
      "correlation 0.58 between HLE.DE and STM.DE\n",
      "correlation 0.53 between HLE.DE and WAF.DE\n",
      "correlation 0.53 between JEN.DE and KBX.DE\n",
      "correlation 0.50 between JEN.DE and LXS.DE\n",
      "correlation 0.66 between JUN3.DE and KGX.DE\n",
      "correlation 0.55 between JUN3.DE and LXS.DE\n",
      "correlation 0.56 between KBX.DE and LXS.DE\n",
      "correlation 0.57 between KBX.DE and SDF.DE\n",
      "correlation 0.54 between KBX.DE and STM.DE\n",
      "correlation 0.59 between KBX.DE and TKA.DE\n",
      "correlation 0.53 between KBX.DE and UTDI.DE\n",
      "correlation 0.56 between KBX.DE and WCH.DE\n",
      "correlation 0.64 between LEG.DE and TEG.DE\n",
      "correlation 0.51 between LXS.DE and SDF.DE\n",
      "correlation 0.54 between LXS.DE and WAF.DE\n",
      "correlation 0.52 between LXS.DE and WCH.DE\n",
      "correlation 0.50 between WAF.DE and WCH.DE\n"
     ]
    }
   ],
   "source": [
    "corr_matrix = returns.corr().values\n",
    "for i in range(corr_matrix.shape[0]):\n",
    "  for j in range(i, corr_matrix.shape[0]):\n",
    "    if (i != j and 0.5 <= corr_matrix[i][j] < 1.0):\n",
    "      print(f\"correlation {corr_matrix[i][j]:.2f} between {dax_tickers[i]} and {dax_tickers[j]}\")"
   ]
  },
  {
   "cell_type": "markdown",
   "id": "YA20oCPolwLu",
   "metadata": {
    "id": "YA20oCPolwLu"
   },
   "source": [
    "Как можно увидеть, некоторые активы имеют довольно высокую корреляцию с множеством активов. Это следущие активы: LXS.DE, KBX.DE, EVK.DE. Использование их в будущем может привести к проблемам с ковариационной матрицей. Поэтому просто исключим их из выборки."
   ]
  },
  {
   "cell_type": "code",
   "execution_count": null,
   "id": "wqowsnYlmOFk",
   "metadata": {
    "colab": {
     "base_uri": "https://localhost:8080/"
    },
    "id": "wqowsnYlmOFk",
    "outputId": "b7ac5532-6979-46a2-a668-af772bbca04d"
   },
   "outputs": [
    {
     "name": "stdout",
     "output_type": "stream",
     "text": [
      "Список используемых далее активов:\n",
      "1U1.DE\n",
      "AAD.DE\n",
      "ADN1.DE\n",
      "AFX.DE\n",
      "AIXA.DE\n",
      "AT1.DE\n",
      "BC8.DE\n",
      "BFSA.DE\n",
      "BOSS.DE\n",
      "DHER.DE\n",
      "ECV.DE\n",
      "EVD.DE\n",
      "EVT.DE\n",
      "FNTN.DE\n",
      "FPE3.DE\n",
      "FRA.DE\n",
      "FRE.DE\n",
      "G1A.DE\n",
      "G24.DE\n",
      "GBF.DE\n",
      "GXI.DE\n",
      "HFG.DE\n",
      "HLE.DE\n",
      "HOT.DE\n",
      "JEN.DE\n",
      "JUN3.DE\n",
      "KGX.DE\n",
      "KRN.DE\n",
      "LEG.DE\n",
      "LHA.DE\n",
      "NDA.DE\n",
      "NDX1.DE\n",
      "NEM.DE\n",
      "PUM.DE\n",
      "RAA.DE\n",
      "RDC.DE\n",
      "RRTL.DE\n",
      "SAX.DE\n",
      "SDF.DE\n",
      "STM.DE\n",
      "TEG.DE\n",
      "TKA.DE\n",
      "TLX.DE\n",
      "TUI1.DE\n",
      "UTDI.DE\n",
      "WAF.DE\n",
      "WCH.DE\n"
     ]
    }
   ],
   "source": [
    "BLACKLIST = [\"LXS.DE\", \"KBX.DE\", \"EVK.DE\"]\n",
    "\n",
    "all_data = all_data[all_data.Ticker.isin(BLACKLIST) == False].reset_index(drop=True)\n",
    "for ticker in BLACKLIST:\n",
    "  if (ticker in dax_tickers):\n",
    "    dax_tickers.remove(ticker)\n",
    "\n",
    "print(\"Список используемых далее активов:\")\n",
    "for ticker in dax_tickers:\n",
    "  print(ticker)"
   ]
  },
  {
   "cell_type": "code",
   "execution_count": null,
   "id": "SX0v-CZJxuS0",
   "metadata": {
    "colab": {
     "base_uri": "https://localhost:8080/"
    },
    "id": "SX0v-CZJxuS0",
    "outputId": "0dae06f9-d7cf-4822-975b-530e29e73270"
   },
   "outputs": [
    {
     "name": "stdout",
     "output_type": "stream",
     "text": [
      "Значения доходности и риска активов:\n",
      "     Ticker      mean       std\n",
      "0    1U1.DE -0.001788  0.022513\n",
      "1    AAD.DE  0.000074  0.015987\n",
      "2   ADN1.DE -0.000611  0.020259\n",
      "3    AFX.DE  0.001133  0.016555\n",
      "4   AIXA.DE -0.001432  0.037983\n",
      "5    AT1.DE  0.000388  0.012366\n",
      "6    BC8.DE -0.000127  0.016492\n",
      "7   BFSA.DE -0.000423  0.018487\n",
      "8   BOSS.DE -0.001163  0.015979\n",
      "9   DHER.DE -0.000020  0.021810\n",
      "10   ECV.DE -0.000702  0.012483\n",
      "11   EVD.DE -0.000694  0.017922\n",
      "12   EVT.DE  0.000977  0.033622\n",
      "13  FNTN.DE -0.002414  0.018077\n",
      "14  FPE3.DE -0.000847  0.014874\n",
      "15   FRA.DE -0.001553  0.013250\n",
      "16   FRE.DE -0.001665  0.022394\n",
      "17   G1A.DE -0.002267  0.020181\n",
      "18   G24.DE  0.000668  0.017051\n",
      "19   GBF.DE -0.001730  0.018317\n",
      "20   GXI.DE -0.000761  0.016574\n",
      "21   HFG.DE -0.002656  0.024208\n",
      "22   HLE.DE -0.001573  0.019249\n",
      "23   HOT.DE -0.000845  0.013839\n",
      "24   JEN.DE -0.000793  0.025399\n",
      "25  JUN3.DE -0.002154  0.021263\n",
      "26   KGX.DE -0.001947  0.022514\n",
      "27   KRN.DE -0.002067  0.020053\n",
      "28   LEG.DE -0.000168  0.011156\n",
      "29   LHA.DE -0.001713  0.020834\n",
      "30   NDA.DE -0.002387  0.021040\n",
      "31  NDX1.DE -0.000820  0.032173\n",
      "32   NEM.DE  0.001000  0.026941\n",
      "33   PUM.DE  0.000680  0.024224\n",
      "34   RAA.DE -0.000346  0.017453\n",
      "35   RDC.DE -0.000889  0.031883\n",
      "36  RRTL.DE -0.001432  0.015313\n",
      "37   SAX.DE -0.001437  0.019328\n",
      "38   SDF.DE -0.001137  0.017833\n",
      "39   STM.DE -0.001278  0.021045\n",
      "40   TEG.DE  0.000919  0.009859\n",
      "41   TKA.DE -0.001891  0.020639\n",
      "42   TLX.DE -0.000560  0.011760\n",
      "43  TUI1.DE -0.001384  0.015686\n",
      "44  UTDI.DE -0.001643  0.016953\n",
      "45   WAF.DE -0.002198  0.033878\n",
      "46   WCH.DE -0.002886  0.024270\n",
      "\n",
      "Кол-во активов: 47\n"
     ]
    }
   ],
   "source": [
    "returns = all_data.pivot(index='Date', columns='Ticker', values='Log_Return')\n",
    "data = all_data[['Date', 'Close', 'Log_Return', 'Ticker']]\n",
    "summary_stats = data.groupby('Ticker')['Log_Return'].agg(['mean', 'std']).reset_index()\n",
    "means = summary_stats['mean'].values.reshape(-1, 1)\n",
    "number = returns.shape[1]\n",
    "\n",
    "print(\"Значения доходности и риска активов:\")\n",
    "print(summary_stats)\n",
    "print()\n",
    "print(f\"Кол-во активов: {number}\")"
   ]
  },
  {
   "cell_type": "markdown",
   "id": "s6Kt_hMO7Q8w",
   "metadata": {
    "id": "s6Kt_hMO7Q8w"
   },
   "source": [
    "### 1. Портфель с минимальным риском\n",
    "Для нахождения портфеля с минимальным риском потребуется решить задачу оптимизации, в которой расчеты производятся с помощью ковариационной матрицы, расчитанной на основе данных о доходностях активов. Поэтому, для начала, посчитаем эту матрицу.\n"
   ]
  },
  {
   "cell_type": "code",
   "execution_count": null,
   "id": "WmNzuKVzxDod",
   "metadata": {
    "colab": {
     "base_uri": "https://localhost:8080/"
    },
    "id": "WmNzuKVzxDod",
    "outputId": "d550968f-74e2-4db7-e954-cdfbdec7e000"
   },
   "outputs": [
    {
     "name": "stdout",
     "output_type": "stream",
     "text": [
      "Определитель ковариационной матрицы: 1.3639130818526751e-170\n"
     ]
    }
   ],
   "source": [
    "cov_dataframe = returns.cov()\n",
    "cov_matrix = [[cov_dataframe[t1][t2] for t2 in dax_tickers] for t1 in dax_tickers]\n",
    "cov_matrix = np.array(cov_matrix)\n",
    "\n",
    "print(f\"Определитель ковариационной матрицы: {np.linalg.det(cov_matrix)}\")"
   ]
  },
  {
   "cell_type": "markdown",
   "id": "KXkVpNlcNVyG",
   "metadata": {
    "id": "KXkVpNlcNVyG"
   },
   "source": [
    "Как можно увидеть, значение определителя довольно маленькое, однако для вычислений с помощью солвера далее этого значения достаточно."
   ]
  },
  {
   "cell_type": "markdown",
   "id": "6dh23zL2ohLh",
   "metadata": {
    "id": "6dh23zL2ohLh"
   },
   "source": [
    "Теперь, зная ковариационную матрицу, найдем портфели с минимальным риском для случаев когда короткие продажи разрешены и запрещены. Напишем функцию, которая по заданным ограничениям и ковариационной матрице, будет находить портфель с минимальным риском. Воспользуемся встроенным в cvxpy солвером, чтобы решить задачу нелинейной оптимизации."
   ]
  },
  {
   "cell_type": "code",
   "execution_count": null,
   "id": "gnPrJHZ_OCpV",
   "metadata": {
    "id": "gnPrJHZ_OCpV"
   },
   "outputs": [],
   "source": [
    "def calc_min_volatility(proportion, constraints, cov_matrix):\n",
    "  disp = cp.quad_form(proportion, cov_matrix)\n",
    "  minim = cp.Minimize(disp)\n",
    "  problem = cp.Problem(minim, constraints)\n",
    "  problem.solve()\n",
    "  sigma = disp.value ** 0.5\n",
    "\n",
    "  return sigma"
   ]
  },
  {
   "cell_type": "markdown",
   "id": "ItHO2kyapS52",
   "metadata": {
    "id": "ItHO2kyapS52"
   },
   "source": [
    "Функция выше возвращает значение волатильности минимального портфеля, а также находит вектор долей акций для этого портфеля. Теперь применим эту функцию для вычисления портфелей с минимальным риском."
   ]
  },
  {
   "cell_type": "markdown",
   "id": "6QBqHc39pcPD",
   "metadata": {
    "id": "6QBqHc39pcPD"
   },
   "source": [
    "Короткие продажи разрешены"
   ]
  },
  {
   "cell_type": "code",
   "execution_count": null,
   "id": "0e79aec6-f5d1-461b-b44c-84f042a0273b",
   "metadata": {
    "colab": {
     "base_uri": "https://localhost:8080/"
    },
    "id": "0e79aec6-f5d1-461b-b44c-84f042a0273b",
    "outputId": "45203468-5c3f-4c78-9683-a0844bf315d0"
   },
   "outputs": [
    {
     "name": "stdout",
     "output_type": "stream",
     "text": [
      "Волатильность: 0.005942\n",
      "Доходность: -0.000569\n",
      "\n",
      "Доли активов в портфеле:\n",
      "1U1.DE: 0.002625\n",
      "AAD.DE: 0.027673\n",
      "ADN1.DE: 0.003951\n",
      "AFX.DE: 0.009258\n",
      "AIXA.DE: -0.009415\n",
      "AT1.DE: -0.005464\n",
      "BC8.DE: 0.001007\n",
      "BFSA.DE: 0.094334\n",
      "BOSS.DE: 0.065639\n",
      "DHER.DE: 0.011828\n",
      "ECV.DE: 0.090819\n",
      "EVD.DE: 0.027407\n",
      "EVT.DE: -0.028851\n",
      "FNTN.DE: -0.009068\n",
      "FPE3.DE: 0.044770\n",
      "FRA.DE: 0.095482\n",
      "FRE.DE: 0.015453\n",
      "G1A.DE: -0.023313\n",
      "G24.DE: -0.013353\n",
      "GBF.DE: -0.003755\n",
      "GXI.DE: 0.015148\n",
      "HFG.DE: 0.009310\n",
      "HLE.DE: 0.039799\n",
      "HOT.DE: 0.012336\n",
      "JEN.DE: -0.050384\n",
      "JUN3.DE: -0.000350\n",
      "KGX.DE: -0.028656\n",
      "KRN.DE: 0.077985\n",
      "LEG.DE: 0.093302\n",
      "LHA.DE: 0.018171\n",
      "NDA.DE: 0.018322\n",
      "NDX1.DE: 0.000395\n",
      "NEM.DE: -0.049620\n",
      "PUM.DE: -0.025238\n",
      "RAA.DE: 0.005354\n",
      "RDC.DE: 0.047505\n",
      "RRTL.DE: 0.080983\n",
      "SAX.DE: -0.000960\n",
      "SDF.DE: -0.052205\n",
      "STM.DE: -0.031861\n",
      "TEG.DE: 0.249319\n",
      "TKA.DE: 0.005371\n",
      "TLX.DE: 0.180990\n",
      "TUI1.DE: 0.038200\n",
      "UTDI.DE: -0.001539\n",
      "WAF.DE: -0.051826\n",
      "WCH.DE: 0.003120\n"
     ]
    }
   ],
   "source": [
    "proportion_short = cp.Variable(number)  # Переменная для долей активов\n",
    "constraints_short = [cp.sum(proportion_short) == 1]\n",
    "sigma_short = calc_min_volatility(proportion_short, constraints_short, cov_matrix)\n",
    "mean_short = (proportion_short.value.T @ means)[0]\n",
    "\n",
    "print(f\"Волатильность: {sigma_short:.6f}\")\n",
    "print(f\"Доходность: {mean_short:.6f}\")\n",
    "print()\n",
    "\n",
    "print(\"Доли активов в портфеле:\")\n",
    "result_short = dict(zip(returns.columns, proportion_short.value))\n",
    "for ticker, prop in result_short.items():\n",
    "  print(f\"{ticker}: {prop:.6f}\")"
   ]
  },
  {
   "cell_type": "markdown",
   "id": "SXnwcSup7PYI",
   "metadata": {
    "id": "SXnwcSup7PYI"
   },
   "source": [
    "Короткие продажи запрещены\n",
    "\n"
   ]
  },
  {
   "cell_type": "code",
   "execution_count": null,
   "id": "ad2e8b86-2473-4583-8328-361b99c10bdf",
   "metadata": {
    "colab": {
     "base_uri": "https://localhost:8080/"
    },
    "id": "ad2e8b86-2473-4583-8328-361b99c10bdf",
    "outputId": "e3407723-1d08-413b-bfd2-1a61c98694d1"
   },
   "outputs": [
    {
     "name": "stdout",
     "output_type": "stream",
     "text": [
      "Волатильность: 0.006858\n",
      "Доходность: -0.000355\n",
      "\n",
      "Доли активов в портфеле:\n",
      "1U1.DE: 0.0\n",
      "AAD.DE: 0.026870\n",
      "ADN1.DE: 0.0\n",
      "AFX.DE: 0.0\n",
      "AIXA.DE: 0.0\n",
      "AT1.DE: 0.024079\n",
      "BC8.DE: 0.0\n",
      "BFSA.DE: 0.081040\n",
      "BOSS.DE: 0.036874\n",
      "DHER.DE: 0.0\n",
      "ECV.DE: 0.046666\n",
      "EVD.DE: 0.005566\n",
      "EVT.DE: 0.0\n",
      "FNTN.DE: 0.0\n",
      "FPE3.DE: 0.0\n",
      "FRA.DE: 0.055256\n",
      "FRE.DE: 0.0\n",
      "G1A.DE: 0.0\n",
      "G24.DE: 0.0\n",
      "GBF.DE: 0.0\n",
      "GXI.DE: 0.007498\n",
      "HFG.DE: 0.0\n",
      "HLE.DE: 0.0\n",
      "HOT.DE: 0.0\n",
      "JEN.DE: 0.0\n",
      "JUN3.DE: 0.0\n",
      "KGX.DE: 0.0\n",
      "KRN.DE: 0.040408\n",
      "LEG.DE: 0.098082\n",
      "LHA.DE: 0.0\n",
      "NDA.DE: 0.0\n",
      "NDX1.DE: 0.0\n",
      "NEM.DE: 0.0\n",
      "PUM.DE: 0.0\n",
      "RAA.DE: 0.0\n",
      "RDC.DE: 0.049019\n",
      "RRTL.DE: 0.079429\n",
      "SAX.DE: 0.0\n",
      "SDF.DE: 0.0\n",
      "STM.DE: 0.0\n",
      "TEG.DE: 0.251067\n",
      "TKA.DE: 0.0\n",
      "TLX.DE: 0.169950\n",
      "TUI1.DE: 0.028196\n",
      "UTDI.DE: 0.0\n",
      "WAF.DE: 0.0\n",
      "WCH.DE: 0.0\n"
     ]
    }
   ],
   "source": [
    "proportion_no_short = cp.Variable(number)  # Переменная для долей активов\n",
    "constraints_no_short = [cp.sum(proportion_no_short) == 1,\n",
    "                        proportion_no_short >= 0]\n",
    "sigma_no_short = calc_min_volatility(proportion_no_short, constraints_no_short, cov_matrix)\n",
    "mean_no_short = (proportion_no_short.value.T @ means)[0]\n",
    "\n",
    "print(f\"Волатильность: {sigma_no_short:.6f}\")\n",
    "print(f\"Доходность: {mean_no_short:.6f}\")\n",
    "print()\n",
    "\n",
    "print(\"Доли активов в портфеле:\")\n",
    "result_no_short = dict(zip(returns.columns, proportion_no_short.value))\n",
    "for ticker, prop in result_no_short.items():\n",
    "    if prop < 1e-16:\n",
    "      print(f\"{ticker}: {0.0}\")\n",
    "    else:\n",
    "      print(f\"{ticker}: {prop:.6f}\")"
   ]
  },
  {
   "cell_type": "markdown",
   "id": "FR10ESMODDjV",
   "metadata": {
    "id": "FR10ESMODDjV"
   },
   "source": [
    "Выведем полученные портфели на графике"
   ]
  },
  {
   "cell_type": "code",
   "execution_count": null,
   "id": "VBSOZOuQkMKD",
   "metadata": {
    "colab": {
     "base_uri": "https://localhost:8080/",
     "height": 373
    },
    "id": "VBSOZOuQkMKD",
    "outputId": "e806b75d-d54c-467b-dc53-b22841eaa7da"
   },
   "outputs": [
    {
     "data": {
      "image/png": "[encoded data removed]",
      "text/plain": [
       "<Figure size 960x400 with 1 Axes>"
      ]
     },
     "metadata": {},
     "output_type": "display_data"
    }
   ],
   "source": [
    "plt.figure(figsize=(12, 5), dpi = 80)\n",
    "\n",
    "# Короткие продажы разрешены\n",
    "plt.scatter(sigma_short, mean_short, s=60, color = \"red\", label = \"shorts available\")\n",
    "\n",
    "# Короткие продажы запрещены\n",
    "plt.scatter(sigma_no_short, mean_no_short, s=60, color = \"blue\", label = \"shorts not available\")\n",
    "\n",
    "# Активы\n",
    "plt.scatter(summary_stats['std'], summary_stats['mean'], color = \"grey\", s=10, label=\"actives\")\n",
    "\n",
    "plt.xlabel('Стандартное отклонение')\n",
    "plt.ylabel('Ожидаемая доходность')\n",
    "\n",
    "plt.legend()\n",
    "plt.grid()\n",
    "plt.show()"
   ]
  },
  {
   "cell_type": "markdown",
   "id": "tDf-1ufjXEL-",
   "metadata": {
    "id": "tDf-1ufjXEL-"
   },
   "source": [
    "\n",
    "\n",
    "---\n",
    "\n",
    "\n",
    "Как можно увидеть из графика выше, минимальный портфель при запрете коротких продаж имеет большую доходность, но при этом и больший риск, относительно портфеля с разрешением коротких продаж.\n",
    "\n",
    "\n",
    "---\n",
    "\n"
   ]
  },
  {
   "cell_type": "markdown",
   "id": "fjyOM2XvjrNC",
   "metadata": {
    "id": "fjyOM2XvjrNC"
   },
   "source": [
    "### 2. Построение эффективного фронта\n",
    "Сначала напишем функции для построения эффективных фронтов в случаях когда короткие продажи разрешены и запрещены. Нам нужно получить набор точек, чтобы по нему построить фронт. Для этого зададим начальное значение доходности *e0* и с некоторым шагом будем его увеличивать, считая портфель с минимальным риском для каждого значения *e0*."
   ]
  },
  {
   "cell_type": "markdown",
   "id": "rk28QN-Sv8RO",
   "metadata": {
    "id": "rk28QN-Sv8RO"
   },
   "source": [
    "Короткие продажи разрешены"
   ]
  },
  {
   "cell_type": "code",
   "execution_count": null,
   "id": "8fT5ZXI4S68K",
   "metadata": {
    "id": "8fT5ZXI4S68K"
   },
   "outputs": [],
   "source": [
    "def efficient_frontier_short(e0, number, precision, means, cov_matrix, eps):\n",
    "  x = np.array([])\n",
    "  y = np.array([])\n",
    "  for i in range(precision):\n",
    "    e0 += eps\n",
    "    proportion = cp.Variable(number)\n",
    "    disp0 = cp.quad_form(proportion, cov_matrix)\n",
    "    minim = cp.Minimize(disp0)\n",
    "    constraints = [cp.sum(proportion) == 1,\n",
    "                  proportion @ means == e0]\n",
    "    problem = cp.Problem(minim, constraints)\n",
    "    problem.solve(solver=cp.CLARABEL)\n",
    "    sigma0 = disp0.value**0.5\n",
    "\n",
    "    x = np.append(x, sigma0)\n",
    "    y = np.append(y, e0)\n",
    "\n",
    "  return x, y"
   ]
  },
  {
   "cell_type": "markdown",
   "id": "IBqRjxcLv_AN",
   "metadata": {
    "id": "IBqRjxcLv_AN"
   },
   "source": [
    "Короткие продажи запрещены"
   ]
  },
  {
   "cell_type": "code",
   "execution_count": null,
   "id": "8S0fG69yV1eY",
   "metadata": {
    "id": "8S0fG69yV1eY"
   },
   "outputs": [],
   "source": [
    "def efficient_frontier_no_short(e0, number, precision, means, cov_matrix, eps):\n",
    "  x = np.array([])\n",
    "  y = np.array([])\n",
    "  for i in range(precision):\n",
    "    e0 += eps\n",
    "    proportion = cp.Variable(number)\n",
    "    disp0 = cp.quad_form(proportion, cov_matrix)\n",
    "    minim = cp.Minimize(disp0)\n",
    "    constraints = [cp.sum(proportion) == 1,\n",
    "                  proportion @ means == e0,\n",
    "                  proportion >= 0]\n",
    "    try:\n",
    "      problem = cp.Problem(minim, constraints)\n",
    "      problem.solve(solver=cp.CLARABEL)\n",
    "      sigma0 = disp0.value**0.5\n",
    "    except:\n",
    "      break\n",
    "\n",
    "    x = np.append(x, sigma0)\n",
    "    y = np.append(y, e0)\n",
    "\n",
    "  return x, y"
   ]
  },
  {
   "cell_type": "markdown",
   "id": "G_geAlf-kabM",
   "metadata": {
    "id": "G_geAlf-kabM"
   },
   "source": [
    "Применим функции и получим два набора точек"
   ]
  },
  {
   "cell_type": "code",
   "execution_count": null,
   "id": "hY9rr2vSj_GL",
   "metadata": {
    "id": "hY9rr2vSj_GL"
   },
   "outputs": [],
   "source": [
    "EPS_SHORT    = 1e-05  # Шаг доходности при разрешении коротких продажах\n",
    "EPS_NO_SHORT = 1e-06  # Шаг доходности при запрете коротких продаж"
   ]
  },
  {
   "cell_type": "code",
   "execution_count": null,
   "id": "zUqIgiSrrfq-",
   "metadata": {
    "id": "zUqIgiSrrfq-"
   },
   "outputs": [],
   "source": [
    "# Короткие продажи разрешены\n",
    "x_short, y_short = efficient_frontier_short(mean_short, number, 1000, means, cov_matrix, EPS_SHORT)\n",
    "\n",
    "# Короткие продажи запрещены\n",
    "x_no_short, y_no_short = efficient_frontier_no_short(mean_no_short, number, 2000, means, cov_matrix, EPS_NO_SHORT)"
   ]
  },
  {
   "cell_type": "markdown",
   "id": "mJnexTMVlNrZ",
   "metadata": {
    "id": "mJnexTMVlNrZ"
   },
   "source": [
    "Так же посчитаем портфель с равными долями у каждой акции, чтобы оценить его относительно эффективных фронтов"
   ]
  },
  {
   "cell_type": "code",
   "execution_count": null,
   "id": "1NTmaiKwZGRn",
   "metadata": {
    "colab": {
     "base_uri": "https://localhost:8080/"
    },
    "id": "1NTmaiKwZGRn",
    "outputId": "44df49d3-ca08-402e-ba4e-8b78184168b8"
   },
   "outputs": [
    {
     "name": "stdout",
     "output_type": "stream",
     "text": [
      "Портфель с равными долями\n",
      "Волатильность портфеля: 0.010363\n",
      "Доходность портфеля: -0.000991\n"
     ]
    }
   ],
   "source": [
    "x_equal = [1 / number] * number\n",
    "sigma_equal = cp.quad_form(x_equal, cov_matrix).value ** 0.5\n",
    "mean_equal = (sum(means) / number)[0]\n",
    "\n",
    "print(\"Портфель с равными долями\")\n",
    "print(f\"Волатильность портфеля: {sigma_equal:.6f}\")\n",
    "print(f\"Доходность портфеля: {mean_equal:.6f}\")"
   ]
  },
  {
   "cell_type": "markdown",
   "id": "nQ1kie4GlYdi",
   "metadata": {
    "id": "nQ1kie4GlYdi"
   },
   "source": [
    "Выведем все полученные данные на одном графике"
   ]
  },
  {
   "cell_type": "code",
   "execution_count": null,
   "id": "zhiL3g1lZIct",
   "metadata": {
    "colab": {
     "base_uri": "https://localhost:8080/",
     "height": 434
    },
    "id": "zhiL3g1lZIct",
    "outputId": "81db3b37-944d-4d99-d186-0f07e6e943b0"
   },
   "outputs": [
    {
     "data": {
      "image/png": "[encoded data removed]",
      "text/plain": [
       "<Figure size 640x480 with 1 Axes>"
      ]
     },
     "metadata": {},
     "output_type": "display_data"
    }
   ],
   "source": [
    "fig, ax = plt.subplots()\n",
    "\n",
    "# Короткие продажи разрешены\n",
    "plt.scatter(sigma_short, mean_short, s=20, color = \"red\")\n",
    "ax.plot(x_short, y_short, color = \"red\", label = \"shorts available\")\n",
    "\n",
    "# Короткие продажи запрещены\n",
    "plt.scatter(sigma_no_short, mean_no_short, s=20, color = \"blue\")\n",
    "ax.plot(x_no_short, y_no_short, color = \"blue\", label = \"shorts not available\")\n",
    "\n",
    "# Портфель с равными долями\n",
    "plt.scatter(sigma_equal, mean_equal, s=20, color = \"green\", label=\"equal shares portfolio\")\n",
    "\n",
    "# Активы\n",
    "plt.scatter(summary_stats['std'], summary_stats['mean'], color = \"grey\", s=10, label=\"actives\")\n",
    "\n",
    "plt.legend()\n",
    "plt.show()"
   ]
  },
  {
   "cell_type": "markdown",
   "id": "YTyLmMtXn4gh",
   "metadata": {
    "id": "YTyLmMtXn4gh"
   },
   "source": [
    "\n",
    "\n",
    "---\n",
    "\n",
    "\n",
    "На полученном графике можно увидеть, что при запрете коротких продаж эффективный фронт заканчивается ровно в точке актива с наивысшим уровнем доходности. Если же короткие продажи разрешены, эффективный фронт не ограничен и уходит в бесконечность. Также можно увидеть, что портфель с равными долями оказался хуже (как по риску, так и по доходности), чем минимальные портфели, посчитанные путем решения задачи Лагранжа. И хоть он и находится не так далеко от них, рассматривать его в качестве основной стратегии не стоит, ведь есть и более выгодные решения, находящиеся на линии эффективного фронта.\n",
    "\n",
    "\n",
    "---\n",
    "\n"
   ]
  },
  {
   "cell_type": "markdown",
   "id": "vYnhsVm-wYH0",
   "metadata": {
    "id": "vYnhsVm-wYH0"
   },
   "source": [
    "### 3. Проблема выбора портфелей"
   ]
  },
  {
   "cell_type": "markdown",
   "id": "OodpYGRDFYHf",
   "metadata": {
    "id": "OodpYGRDFYHf"
   },
   "source": [
    "В этой части задания нам нужно отобрать 10 активов из прошлых 47, чтобы для них так же построить эффективный фронт. Выберем 10 активов с самой высокой доходностью."
   ]
  },
  {
   "cell_type": "code",
   "execution_count": null,
   "id": "pA_-6NM6F-cK",
   "metadata": {
    "colab": {
     "base_uri": "https://localhost:8080/"
    },
    "id": "pA_-6NM6F-cK",
    "outputId": "46fc2d79-62cc-4c8c-8505-95253d64fce3"
   },
   "outputs": [
    {
     "name": "stdout",
     "output_type": "stream",
     "text": [
      "Выбранные активы:\n",
      "AFX.DE\n",
      "NEM.DE\n",
      "EVT.DE\n",
      "TEG.DE\n",
      "PUM.DE\n",
      "G24.DE\n",
      "AT1.DE\n",
      "AAD.DE\n",
      "DHER.DE\n",
      "BC8.DE\n"
     ]
    }
   ],
   "source": [
    "tickers_with_max_e = np.array(summary_stats.sort_values('mean')[::-1][:10].Ticker)\n",
    "\n",
    "print(\"Выбранные активы:\")\n",
    "for i in tickers_with_max_e:\n",
    "  print(i)"
   ]
  },
  {
   "cell_type": "code",
   "execution_count": null,
   "id": "yMOMPb1jDLW3",
   "metadata": {
    "collapsed": true,
    "id": "yMOMPb1jDLW3",
    "jupyter": {
     "outputs_hidden": true
    }
   },
   "outputs": [],
   "source": [
    "summary_stats_10 = summary_stats.sort_values('mean', ascending = False).head(10).reset_index(drop=True)\n",
    "means_10 = summary_stats_10['mean'].values.reshape(-1, 1)\n",
    "returns_10 = returns[[*summary_stats_10['Ticker']]]"
   ]
  },
  {
   "cell_type": "markdown",
   "id": "ZX58u3JCGOWQ",
   "metadata": {
    "id": "ZX58u3JCGOWQ"
   },
   "source": [
    "Далее нам нужно провести те же действия, что и при 47 активах. Так как значения доходностей у нас уже есть, нам нужно посчитать только ковариационную матрицу для этих 10 активов."
   ]
  },
  {
   "cell_type": "code",
   "execution_count": null,
   "id": "QO_N5b03bii_",
   "metadata": {
    "colab": {
     "base_uri": "https://localhost:8080/"
    },
    "id": "QO_N5b03bii_",
    "outputId": "539ea6bc-52f3-497c-b8b8-8f0680992388"
   },
   "outputs": [
    {
     "name": "stdout",
     "output_type": "stream",
     "text": [
      "Определитель ковариационной матрицы для 10 активов: 1.7597981208609e-36\n"
     ]
    }
   ],
   "source": [
    "number_ten = returns_10.shape[1]\n",
    "\n",
    "cov_dataframe_10 = returns_10.cov()\n",
    "cov_matrix_10 = [[cov_dataframe[t1][t2] for t2 in tickers_with_max_e] for t1 in tickers_with_max_e]\n",
    "cov_matrix_10 = np.array(cov_matrix_10)\n",
    "\n",
    "print(f\"Определитель ковариационной матрицы для 10 активов: {np.linalg.det(cov_matrix_10)}\")"
   ]
  },
  {
   "cell_type": "markdown",
   "id": "3uSz_nzrH4V-",
   "metadata": {
    "id": "3uSz_nzrH4V-"
   },
   "source": [
    "Короткие продажи разрешены"
   ]
  },
  {
   "cell_type": "code",
   "execution_count": null,
   "id": "AMeK_JC2DwQf",
   "metadata": {
    "colab": {
     "base_uri": "https://localhost:8080/"
    },
    "id": "AMeK_JC2DwQf",
    "outputId": "10bbf842-5add-4aeb-c26b-6496e12eaed3"
   },
   "outputs": [
    {
     "name": "stdout",
     "output_type": "stream",
     "text": [
      "AFX.DE: 0.082999\n",
      "NEM.DE: -0.059643\n",
      "EVT.DE: -0.029195\n",
      "TEG.DE: 0.526819\n",
      "PUM.DE: 0.001272\n",
      "G24.DE: 0.085843\n",
      "AT1.DE: 0.123428\n",
      "AAD.DE: 0.158918\n",
      "DHER.DE: 0.063126\n",
      "BC8.DE: 0.046432\n"
     ]
    }
   ],
   "source": [
    "proportion_short_10 = cp.Variable(number_ten) # Переменная для долей активов\n",
    "constraints_short_10 = [cp.sum(proportion_short_10) == 1] # Ограничения при разрешении коротких продаж\n",
    "\n",
    "sigma_short_10 = calc_min_volatility(proportion_short_10, constraints_short_10, cov_matrix_10)\n",
    "mean_short_10 = (proportion_short_10.value.T @ means_10)[0]\n",
    "\n",
    "result_short_ten = dict(zip(returns_10.columns, proportion_short_10.value))\n",
    "\n",
    "# Вывод оптимальных весов\n",
    "for key, value in result_short_ten.items():\n",
    "    print(f\"{key}: {value:.6f}\")"
   ]
  },
  {
   "cell_type": "markdown",
   "id": "jSGTvLm3H9Lc",
   "metadata": {
    "id": "jSGTvLm3H9Lc"
   },
   "source": [
    "Короткие продажи запрещены"
   ]
  },
  {
   "cell_type": "code",
   "execution_count": null,
   "id": "Lppho1ymEH2A",
   "metadata": {
    "colab": {
     "base_uri": "https://localhost:8080/"
    },
    "id": "Lppho1ymEH2A",
    "outputId": "3271dd78-2155-444d-83b3-9d27a36d2a23"
   },
   "outputs": [
    {
     "name": "stdout",
     "output_type": "stream",
     "text": [
      "AFX.DE: 0.071476\n",
      "NEM.DE: 0.0\n",
      "EVT.DE: 0.0\n",
      "TEG.DE: 0.520240\n",
      "PUM.DE: 0.0\n",
      "G24.DE: 0.071172\n",
      "AT1.DE: 0.136093\n",
      "AAD.DE: 0.153874\n",
      "DHER.DE: 0.040768\n",
      "BC8.DE: 0.006377\n"
     ]
    }
   ],
   "source": [
    "proportion_no_short_10 = cp.Variable(number_ten)\n",
    "constraints_no_short_10 = [cp.sum(proportion_no_short_10) == 1,\n",
    "                            proportion_no_short_10 >= 0]\n",
    "\n",
    "sigma_no_short_10 = calc_min_volatility(proportion_no_short_10, constraints_no_short_10, cov_matrix_10)\n",
    "mean_no_short_10 = (proportion_no_short_10.value.T @ means_10)[0]\n",
    "\n",
    "result_no_short_ten = dict(zip(returns_10.columns, proportion_no_short_10.value))\n",
    "\n",
    "# Вывод оптимальных весов\n",
    "for key, value in result_no_short_ten.items():\n",
    "    if value < 1e-16:\n",
    "      print(f\"{key}: {0.0}\")\n",
    "    else:\n",
    "      print(f\"{key}: {result_no_short_ten[key]:.6f}\")"
   ]
  },
  {
   "cell_type": "markdown",
   "id": "hxDbIBOEIAOH",
   "metadata": {
    "id": "hxDbIBOEIAOH"
   },
   "source": [
    "Теперь посчитаем эффективный фронт в случае разрешения коротких продаж для 10 и 47 активов, чтобы сравнить их между собой"
   ]
  },
  {
   "cell_type": "code",
   "execution_count": null,
   "id": "SI1xmp4IJCVy",
   "metadata": {
    "id": "SI1xmp4IJCVy"
   },
   "outputs": [],
   "source": [
    "#Эффективный фронт при разрешении коротких продаж 10 акций\n",
    "x_short_10, y_short_10 = efficient_frontier_short(mean_short_10, 10, 4000, means_10, cov_matrix_10)"
   ]
  },
  {
   "cell_type": "code",
   "execution_count": null,
   "id": "E_CbV23cf9Tr",
   "metadata": {
    "colab": {
     "base_uri": "https://localhost:8080/",
     "height": 430
    },
    "id": "E_CbV23cf9Tr",
    "outputId": "521a1d42-d876-4e8b-a98a-63402cae6c40"
   },
   "outputs": [
    {
     "data": {
      "image/png": "[encoded data removed]",
      "text/plain": [
       "<Figure size 640x480 with 1 Axes>"
      ]
     },
     "metadata": {},
     "output_type": "display_data"
    }
   ],
   "source": [
    "fig, ax = plt.subplots()\n",
    "\n",
    "# Эффективный фронт при 47 активах\n",
    "plt.plot(x_short, y_short, color=\"red\", label = \"efficitent frontier (47 actives)\")\n",
    "plt.scatter(sigma_short, mean_short, s=10, color = \"red\")\n",
    "\n",
    "# Эффективный фронт при 10 активах\n",
    "plt.plot(x_short_10, y_short_10, color=\"blue\", label = \"efficitent frontier (10 actives)\")\n",
    "plt.scatter(sigma_short_10, mean_short_10, s=10, color = \"blue\")\n",
    "\n",
    "# Активы\n",
    "plt.scatter(summary_stats['std'], summary_stats['mean'], color = \"grey\", s=7, label = \"actives\")\n",
    "\n",
    "plt.legend(loc = \"lower right\")\n",
    "plt.show()"
   ]
  },
  {
   "cell_type": "markdown",
   "id": "HvjTc30SIs-h",
   "metadata": {
    "id": "HvjTc30SIs-h"
   },
   "source": [
    "\n",
    "\n",
    "---\n",
    "\n",
    "\n",
    "Как можно увидеть из графика выше, эффективные фронты довольно сильно отличаются друг от друга - в случае 10 активов эффективный фронт проходит ближе к активам. Это означает, что эти 10 активов не достаточно описывают все 47 активов, чтобы эффеквтиные фронты совпадали, по крайней мере в случае разрешения коротких продаж.\n",
    "\n",
    "\n",
    "---\n",
    "\n"
   ]
  },
  {
   "cell_type": "markdown",
   "id": "ucEmwFqdIcqW",
   "metadata": {
    "id": "ucEmwFqdIcqW"
   },
   "source": [
    "Проделаем то же самое при запрете коротких продаж"
   ]
  },
  {
   "cell_type": "code",
   "execution_count": null,
   "id": "56oXuDAwN3ea",
   "metadata": {
    "id": "56oXuDAwN3ea"
   },
   "outputs": [],
   "source": [
    "#Эффективный фронт при запрете коротких продаж 10 акций\n",
    "x_no_short_10, y_no_short_10 = efficient_frontier_no_short(mean_no_short_10, 10, 5000, means_10, cov_matrix_10)"
   ]
  },
  {
   "cell_type": "code",
   "execution_count": null,
   "id": "lvh-AIoqhERh",
   "metadata": {
    "colab": {
     "base_uri": "https://localhost:8080/",
     "height": 430
    },
    "id": "lvh-AIoqhERh",
    "outputId": "5eb57707-1ce0-4159-d7dc-8e46c765ea4d"
   },
   "outputs": [
    {
     "data": {
      "image/png": "[encoded data removed]",
      "text/plain": [
       "<Figure size 640x480 with 1 Axes>"
      ]
     },
     "metadata": {},
     "output_type": "display_data"
    }
   ],
   "source": [
    "fig, ax = plt.subplots()\n",
    "\n",
    "# Эффективный фронт при 47 активах\n",
    "plt.plot(x_no_short, y_no_short, color=\"red\", label = \"efficitent frontier (47 actives)\")\n",
    "plt.scatter(sigma_no_short, mean_no_short, s=10, color = \"red\")\n",
    "\n",
    "# Эффективный фронт при 10 активах\n",
    "plt.plot(x_no_short_10, y_no_short_10, color=\"blue\", label = \"efficitent frontier (10 actives)\")\n",
    "plt.scatter(sigma_no_short_10, mean_no_short_10, s=10, color = \"blue\")\n",
    "\n",
    "# Активы\n",
    "plt.scatter(summary_stats['std'], summary_stats['mean'], color = \"grey\", s=7, label = \"actives\")\n",
    "\n",
    "plt.legend(loc = \"lower right\")\n",
    "plt.show()"
   ]
  },
  {
   "cell_type": "markdown",
   "id": "6juWk6UFxlLC",
   "metadata": {
    "id": "6juWk6UFxlLC"
   },
   "source": [
    "\n",
    "\n",
    "---\n",
    "\n",
    "\n",
    "Здесь можно увидеть, что в отличие от случая с разрешением коротких продаж, эффективные фронты совпадают, хоть и не сразу, что говорит о том, что выбранные активы достаточно хорошо описывают остальные 47 активов.\n",
    "\n",
    "\n",
    "---\n",
    "\n"
   ]
  },
  {
   "cell_type": "markdown",
   "id": "p__SZtUN3Tqa",
   "metadata": {
    "id": "p__SZtUN3Tqa"
   },
   "source": [
    "\n",
    "\n",
    "---\n",
    "\n",
    "По этой части задания можно сделать общий вывод, что рациональность решения о выборе 10 самых доходных активов зависит от выбранной стратегии: если не рассматривать короткие продажи, то самые доходные активы будут достаточно описывать все остальные, однако если короткие продажи разрешены, то подобная стратегия работает не очень хорошо и стоит рассмотреть другую вариацию выбора активов.\n",
    "\n",
    "---\n",
    "\n",
    "\n"
   ]
  },
  {
   "cell_type": "markdown",
   "id": "QIazT3J3FNc2",
   "metadata": {
    "id": "QIazT3J3FNc2"
   },
   "source": [
    "## 4. Отношение к риску"
   ]
  },
  {
   "cell_type": "markdown",
   "id": "8ErAA2IMs1Zg",
   "metadata": {
    "id": "8ErAA2IMs1Zg"
   },
   "source": [
    "В этой части задания нам нужно найти оптимальные портфели относительно нашего отношения к риску и оценить их с помощью VaR и CVaR. Для начала напишем функции для вычисления VaR и CVaR."
   ]
  },
  {
   "cell_type": "code",
   "execution_count": null,
   "id": "qQMWAGHmSKzq",
   "metadata": {
    "id": "qQMWAGHmSKzq"
   },
   "outputs": [],
   "source": [
    "CONFIDENCE_LEVEL = 0.95\n",
    "\n",
    "\n",
    "def calc_var(log_returns):\n",
    "    return -np.percentile(log_returns, (1 - CONFIDENCE_LEVEL) * 100)\n",
    "\n",
    "\n",
    "def calc_cvar(log_returns, var):\n",
    "    return log_returns[log_returns >= var].mean()"
   ]
  },
  {
   "cell_type": "markdown",
   "id": "DI9u7gYytWYK",
   "metadata": {
    "id": "DI9u7gYytWYK"
   },
   "source": [
    "Теперь найдем портфели с минимальным риском. В нашей модели значение отношения к риску определяет наклон касательной к эффективному фронту. Чтобы найти положение касательной, мы будем максимизировать функцию относительно доходности и минимизировать относительно риска (берем риск со знаком минуса). Полученные таким образом значения доходности и риска, зависящие от долей акций в портфеле, и будут являться оптимальными."
   ]
  },
  {
   "cell_type": "markdown",
   "id": "J7PK_dR2wadJ",
   "metadata": {
    "id": "J7PK_dR2wadJ"
   },
   "source": [
    "Напишем соответствующую функцию"
   ]
  },
  {
   "cell_type": "code",
   "execution_count": null,
   "id": "pz7uQFdWLXQ5",
   "metadata": {
    "id": "pz7uQFdWLXQ5"
   },
   "outputs": [],
   "source": [
    "def calc_optimal_portfolio(weights, constraints, means, cov_matrix, risk_aversion):\n",
    "  portfolio_return = means.T @ weights\n",
    "  portfolio_risk = cp.quad_form(weights, cov_matrix)\n",
    "\n",
    "  func = cp.Maximize(portfolio_return - (risk_aversion / 2) * portfolio_risk)\n",
    "  problem = cp.Problem(func, constraints)\n",
    "  problem.solve()\n",
    "\n",
    "  return portfolio_return.value[0], np.sqrt(portfolio_risk.value)"
   ]
  },
  {
   "cell_type": "markdown",
   "id": "TS9KZK1IBXR0",
   "metadata": {
    "id": "TS9KZK1IBXR0"
   },
   "source": [
    "Теперь выберем отношение к риску. Здесь значения от 1 до 2 отображают слабое отношение к риску, иначе говоря, риск здесь самый высокий, но и доходность так же выше, в сравнении с другими значениями. Между значениями 2 и 5 отношение к риску среднее - этот диапазон предпочитает большинство инвесторов, так как здесь достаточно хороший доход при допустимом риске. Если же рассматривать значения больше 5, то здесь риск самый маленький и становится меньше с увеличением отношения к риску. В теории это значение может быть увеличено до бесконечности, но на практике зачастую это не имеет смысла, так как с уменьшением риска, уменьшается и доходность, поэтому значения выше 10 или 15 обычно не берут, ведь доход в таком случае слишком низкий."
   ]
  },
  {
   "cell_type": "markdown",
   "id": "6X-7lK1zBYKW",
   "metadata": {
    "id": "6X-7lK1zBYKW"
   },
   "source": [
    "Мы же выберем среднее значение риска, так как подобное значение чаще всего встречается на практике и имеет самые оптимальные доходность и риск. Другие значения либо слишком рискованные и не стоят того риска, который они несут, либо имеют слишком низкую доходность."
   ]
  },
  {
   "cell_type": "code",
   "execution_count": null,
   "id": "mLfojDLJ91_1",
   "metadata": {
    "id": "mLfojDLJ91_1"
   },
   "outputs": [],
   "source": [
    "risk_aversion = 4"
   ]
  },
  {
   "cell_type": "markdown",
   "id": "3KFzwQF0wpK_",
   "metadata": {
    "id": "3KFzwQF0wpK_"
   },
   "source": [
    "Найдем оптимальный портфель при разрешенных коротких продажах"
   ]
  },
  {
   "cell_type": "code",
   "execution_count": null,
   "id": "QPlMV3xSMNke",
   "metadata": {
    "colab": {
     "base_uri": "https://localhost:8080/"
    },
    "id": "QPlMV3xSMNke",
    "outputId": "53061980-3ecc-4eef-9b35-314c3a0ab52b"
   },
   "outputs": [
    {
     "name": "stdout",
     "output_type": "stream",
     "text": [
      "Доходность оптимального портфеля: 0.036855\n",
      "Волатильность оптимального портфеля: 0.096908\n",
      "\n",
      "Доли акций в оптимальном портфеле:\n",
      "1U1.DE: 0.558380\n",
      "AAD.DE: 0.893051\n",
      "ADN1.DE: 0.540537\n",
      "AFX.DE: 2.105107\n",
      "AIXA.DE: -0.167007\n",
      "AT1.DE: 0.940965\n",
      "BC8.DE: 0.320325\n",
      "BFSA.DE: 0.657192\n",
      "BOSS.DE: -0.952655\n",
      "DHER.DE: 0.828375\n",
      "ECV.DE: 1.323937\n",
      "EVD.DE: 0.764261\n",
      "EVT.DE: 0.334885\n",
      "FNTN.DE: -1.914000\n",
      "FPE3.DE: 0.164125\n",
      "FRA.DE: -3.267154\n",
      "FRE.DE: -0.150468\n",
      "G1A.DE: -0.497083\n",
      "G24.DE: 1.692994\n",
      "GBF.DE: -1.534934\n",
      "GXI.DE: -0.039043\n",
      "HFG.DE: -1.165459\n",
      "HLE.DE: 0.274438\n",
      "HOT.DE: 0.227647\n",
      "JEN.DE: 0.477425\n",
      "JUN3.DE: -0.087631\n",
      "KGX.DE: -0.287402\n",
      "KRN.DE: -0.492853\n",
      "LEG.DE: -2.857005\n",
      "LHA.DE: -0.189158\n",
      "NDA.DE: -1.622019\n",
      "NDX1.DE: 0.202221\n",
      "NEM.DE: 0.343557\n",
      "PUM.DE: 0.446240\n",
      "RAA.DE: 0.545619\n",
      "RDC.DE: 0.143129\n",
      "RRTL.DE: -0.571776\n",
      "SAX.DE: -0.929819\n",
      "SDF.DE: 0.796008\n",
      "STM.DE: 0.337941\n",
      "TEG.DE: 5.239712\n",
      "TKA.DE: -0.199393\n",
      "TLX.DE: 0.910027\n",
      "TUI1.DE: -0.379932\n",
      "UTDI.DE: -1.841287\n",
      "WAF.DE: 0.477020\n",
      "WCH.DE: -1.399039\n",
      "\n",
      "Сумма долей активов в портфеле: 0.9999999999999998\n"
     ]
    }
   ],
   "source": [
    "weights_short = cp.Variable(number)\n",
    "constraints_short = [cp.sum(weights_short) == 1]\n",
    "optimal_return_short, optimal_risk_short = calc_optimal_portfolio(weights_short, constraints_short, means, cov_matrix, risk_aversion)\n",
    "optimal_weights_short = weights_short.value\n",
    "\n",
    "print(f\"Доходность оптимального портфеля: {optimal_return_short:.6f}\")\n",
    "print(f\"Волатильность оптимального портфеля: {optimal_risk_short:.6f}\")\n",
    "print()\n",
    "print(\"Доли акций в оптимальном портфеле:\")\n",
    "optimal_portfolio_short = dict(zip(returns.columns, optimal_weights_short))\n",
    "for ticker, prop in optimal_portfolio_short.items():\n",
    "  print(f\"{ticker}: {prop:.6f}\")\n",
    "print(f\"\\nСумма долей активов в портфеле: {sum(optimal_portfolio_short.values())}\")"
   ]
  },
  {
   "cell_type": "markdown",
   "id": "AuYDrvzORDjQ",
   "metadata": {
    "id": "AuYDrvzORDjQ"
   },
   "source": [
    "\n",
    "\n",
    "---\n",
    "\n",
    "\n",
    "Из долей активов выше видно, что имеется зависимость от доходности акции за рассмотренный период: чем больше доходность актива, тем выше его доля в портфеле. Однако самую высокую долю имеет TEG.DE (*компания по недвижимости, основное внимание уделяется приобретению, развитию и управлению жилой недвижимостью, особенно на севере и востоке Германии*), в то время как самую высокую доходность - AFX.DE (*международная компания в области медицинских технологий, которая производит инструменты для офтальмологических исследований и медицинские лазеры, а также решения для нейрохирургии, стоматологии, гинекологии и онкологии*). Это объясняется нашим отношением к риску: так как мы выбрали среднее его значение, то риск имеет значимую роль в определении портфеля. Также можно отметить, что некоторые акции, такие как, например, ADN1.DE (*публично торгуемая консалтинговая и ИТ-компания*), TLX.DE (*страховая и перестраховочная компания*) и BFSA.DE (*люксембургская сервисная компания, предлагающая полный спектр услуг по утилизации отходов сталелитейной и алюминиевой промышленности*), имеют отрицательную доходность, однако они берутся с положительной долей в портфеле. Это снова объясняется выбранным отношением к риску: хоть эти активы и имеют низкую, даже отрицательную, доходность, у них так же и низкая волатильность, что своего рода балансирует их. Выбрав, например, более высокое значение отношения риску (слабая неприязнь к риску), эти активы имели бы отрицатльную долю, так как их волатильность не имела бы столь большого влияния.\n",
    "\n",
    "\n",
    "---\n",
    "\n"
   ]
  },
  {
   "cell_type": "markdown",
   "id": "5vtzujDRxNqU",
   "metadata": {
    "id": "5vtzujDRxNqU"
   },
   "source": [
    "Теперь посчитаем значения VaR и CVaR для этого портфеля"
   ]
  },
  {
   "cell_type": "code",
   "execution_count": null,
   "id": "_YR2qxPAxVkU",
   "metadata": {
    "colab": {
     "base_uri": "https://localhost:8080/"
    },
    "id": "_YR2qxPAxVkU",
    "outputId": "018dc21e-9b91-48b2-cf34-3fa95d2a5162"
   },
   "outputs": [
    {
     "name": "stdout",
     "output_type": "stream",
     "text": [
      "VaR:  0.000922\n",
      "CVaR: 0.002807\n"
     ]
    }
   ],
   "source": [
    "returns_optimal_short = np.array([optimal_weights_short[i] * means[i] for i in range(number)])\n",
    "\n",
    "VaR_optimal_short = calc_var(returns_optimal_short)\n",
    "CVaR_optimal_short = calc_cvar(returns_optimal_short, VaR_optimal_short)\n",
    "\n",
    "print(f'VaR:  {VaR_optimal_short:.6f}\\nCVaR: {CVaR_optimal_short:.6f}')"
   ]
  },
  {
   "cell_type": "markdown",
   "id": "wa40ETowxZwq",
   "metadata": {
    "id": "wa40ETowxZwq"
   },
   "source": [
    "Отобразим портфель на графике относительно эффективного фронта"
   ]
  },
  {
   "cell_type": "code",
   "execution_count": null,
   "id": "NtMl0yysBvvX",
   "metadata": {
    "id": "NtMl0yysBvvX"
   },
   "outputs": [],
   "source": [
    "# Пересчитываем эффективный фронт с большим кол-вом итераций\n",
    "x_temp, y_temp = efficient_frontier_short(mean_short, number, 4000, means, cov_matrix, EPS_SHORT)"
   ]
  },
  {
   "cell_type": "code",
   "execution_count": null,
   "id": "KfR4TsYvMxw5",
   "metadata": {
    "colab": {
     "base_uri": "https://localhost:8080/",
     "height": 430
    },
    "id": "KfR4TsYvMxw5",
    "outputId": "bd01d96e-4190-4997-aacb-a899952eb5b0"
   },
   "outputs": [
    {
     "data": {
      "image/png": "[encoded data removed]",
      "text/plain": [
       "<Figure size 640x480 with 1 Axes>"
      ]
     },
     "metadata": {},
     "output_type": "display_data"
    }
   ],
   "source": [
    "fig, ax = plt.subplots()\n",
    "\n",
    "# Короткие продажи разрешены\n",
    "plt.scatter(sigma_short, mean_short, s=10, color = \"red\")\n",
    "ax.plot(x_temp, y_temp, color = \"red\", label = \"shorts available\")\n",
    "\n",
    "# Активы\n",
    "plt.scatter(summary_stats['std'], summary_stats['mean'], color = \"grey\", s=7, label=\"actives\")\n",
    "\n",
    "# Оптимальный портфель\n",
    "plt.scatter(optimal_risk_short, optimal_return_short, s=90, color = \"purple\", marker = \"+\", label = \"optimal portfolio\")\n",
    "\n",
    "plt.legend()\n",
    "plt.show()"
   ]
  },
  {
   "cell_type": "markdown",
   "id": "WOAhkn6Uw8QA",
   "metadata": {
    "id": "WOAhkn6Uw8QA"
   },
   "source": [
    "То же самое проделаем и в случае запрета коротких продаж"
   ]
  },
  {
   "cell_type": "code",
   "execution_count": null,
   "id": "kwDCAq2ENlK2",
   "metadata": {
    "colab": {
     "base_uri": "https://localhost:8080/"
    },
    "id": "kwDCAq2ENlK2",
    "outputId": "e542bc59-aeb4-480b-8f29-05d8de19bc01"
   },
   "outputs": [
    {
     "name": "stdout",
     "output_type": "stream",
     "text": [
      "Доходность оптимального портфеля: 0.000997\n",
      "Волатильность оптимального портфеля: 0.010077\n",
      "\n",
      "Доли акций в оптимальном портфеле:\n",
      "AFX.DE: 0.365578\n",
      "TEG.DE: 0.634422\n",
      "\n",
      "Сумма долей активов в портфеле: 0.9999999999999996\n"
     ]
    }
   ],
   "source": [
    "weights_no_short = cp.Variable(number)\n",
    "constraints_no_short = [cp.sum(weights_no_short) == 1,\n",
    "                        weights_no_short >= 0]\n",
    "optimal_return_no_short, optimal_risk_no_short = calc_optimal_portfolio(weights_no_short, constraints_no_short, means, cov_matrix, risk_aversion)\n",
    "optimal_weights_no_short = weights_no_short.value\n",
    "\n",
    "print(f\"Доходность оптимального портфеля: {optimal_return_no_short:.6f}\")\n",
    "print(f\"Волатильность оптимального портфеля: {optimal_risk_no_short:.6f}\")\n",
    "print()\n",
    "print(\"Доли акций в оптимальном портфеле:\")\n",
    "optimal_portfolio_no_short = dict(zip(returns.columns, optimal_weights_no_short))\n",
    "for ticker, prop in optimal_portfolio_no_short.items():\n",
    "    if prop >= 1e-16:\n",
    "      print(f\"{ticker}: {prop:.6f}\")\n",
    "print(f\"\\nСумма долей активов в портфеле: {sum(optimal_portfolio_no_short.values())}\")"
   ]
  },
  {
   "cell_type": "markdown",
   "id": "c4aYhwJGRA0e",
   "metadata": {
    "id": "c4aYhwJGRA0e"
   },
   "source": [
    "\n",
    "\n",
    "---\n",
    "\n",
    "Из всех 47 активов остались всего два: AFX.DE (*международная компания в области медицинских технологий, которая производит инструменты для офтальмологических исследований и медицинские лазеры, а также решения для нейрохирургии, стоматологии, гинекологии и онкологии*) и TEG.DE (*компания по недвижимости, основное внимание уделяется приобретению, развитию и управлению жилой недвижимостью, особенно на севере и востоке Германии*). При этом, несмотря на то, что самую большую доходность имеет AFX.DE, TEG.DE имеет заметно большую долю в портфеле. Подобное поведение можно объяснить тем, что волатильность TEG.DE намного ниже AFX.DE (примерно на 0.007), а доходность у AFX.DE не так сильно превосходит TEG.DE (разница всего 0.0002). Засчет разницы в риске, TEG.DE и получил большую долю. Стоит отметить, что выбрав другое отношение к риску, например отражающее слабое отношение к риску (значения выше 5), то доля TEG.DE не была бы такой большой, потому что значимость риска для нас была бы уже не так важна.\n",
    "\n",
    "---\n",
    "\n"
   ]
  },
  {
   "cell_type": "markdown",
   "id": "jlo_VuflQLyk",
   "metadata": {
    "id": "jlo_VuflQLyk"
   },
   "source": [
    "Найдем значения VaR и CVaR"
   ]
  },
  {
   "cell_type": "code",
   "execution_count": null,
   "id": "iN70s-qJ-TTI",
   "metadata": {
    "colab": {
     "base_uri": "https://localhost:8080/"
    },
    "id": "iN70s-qJ-TTI",
    "outputId": "c3c24a03-cdd2-4655-a8aa-1361d143d1f2"
   },
   "outputs": [
    {
     "name": "stdout",
     "output_type": "stream",
     "text": [
      "VaR:  0.000422\n",
      "CVaR: 0.000498\n"
     ]
    }
   ],
   "source": [
    "returns_optimal_no_short = np.array([(optimal_weights_no_short[i] * means[i]) for i in range(number) if optimal_weights_no_short[i] > 1e-16])\n",
    "\n",
    "VaR_optimal_no_short = -calc_var(returns_optimal_no_short)\n",
    "CVaR_optimal_no_short = calc_cvar(returns_optimal_no_short, -VaR_optimal_no_short)\n",
    "\n",
    "print(f'VaR:  {VaR_optimal_no_short:.6f}\\nCVaR: {CVaR_optimal_no_short:.6f}')"
   ]
  },
  {
   "cell_type": "markdown",
   "id": "-1cU59KaQPCs",
   "metadata": {
    "id": "-1cU59KaQPCs"
   },
   "source": [
    "Выведем полученные данные"
   ]
  },
  {
   "cell_type": "code",
   "execution_count": null,
   "id": "hlRNBCVfOEhr",
   "metadata": {
    "colab": {
     "base_uri": "https://localhost:8080/",
     "height": 430
    },
    "id": "hlRNBCVfOEhr",
    "outputId": "33b45dfc-4c94-421e-83c6-4540860f7338"
   },
   "outputs": [
    {
     "data": {
      "image/png": "[encoded data removed]",
      "text/plain": [
       "<Figure size 640x480 with 1 Axes>"
      ]
     },
     "metadata": {},
     "output_type": "display_data"
    }
   ],
   "source": [
    "fig, ax = plt.subplots()\n",
    "\n",
    "# Короткие продажи запрещены\n",
    "plt.scatter(sigma_no_short, mean_no_short, s=20, color = \"blue\")\n",
    "ax.plot(x_no_short, y_no_short, color = \"blue\", label = \"shorts not available\")\n",
    "\n",
    "# Активы\n",
    "plt.scatter(summary_stats['std'], summary_stats['mean'], color = \"grey\", s=10, label=\"actives\")\n",
    "\n",
    "# Оптимальный портфель\n",
    "plt.scatter(optimal_risk_no_short, optimal_return_no_short, s=90, color = \"purple\", marker = \"+\", label = \"optimal portfolio\")\n",
    "\n",
    "plt.legend()\n",
    "plt.show()"
   ]
  }
 ],
 "metadata": {
  "colab": {
   "provenance": []
  },
  "kernelspec": {
   "display_name": "Python 3 (ipykernel)",
   "language": "python",
   "name": "python3"
  },
  "language_info": {
   "codemirror_mode": {
    "name": "ipython",
    "version": 3
   },
   "file_extension": ".py",
   "mimetype": "text/x-python",
   "name": "python",
   "nbconvert_exporter": "python",
   "pygments_lexer": "ipython3",
   "version": "3.9.13"
  }
 },
 "nbformat": 4,
 "nbformat_minor": 5
}
